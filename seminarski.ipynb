{
 "cells": [
  {
   "cell_type": "code",
   "execution_count": 33,
   "id": "textile-avenue",
   "metadata": {},
   "outputs": [],
   "source": [
    "import numpy as np\n",
    "import types\n",
    "import random\n",
    "from matplotlib import pyplot as plt\n",
    "from sklearn import datasets\n",
    "from sklearn.model_selection import train_test_split\n",
    "from sklearn.preprocessing import StandardScaler\n",
    "from keras.models import Sequential\n",
    "from keras.layers import Dense\n",
    "from keras import losses, optimizers\n",
    "from keras.utils import to_categorical"
   ]
  },
  {
   "cell_type": "code",
   "execution_count": 34,
   "id": "demonstrated-print",
   "metadata": {},
   "outputs": [],
   "source": [
    "class Individual:\n",
    "    \n",
    "    def __init__(self, weight_dim, model, x_training, y_training, lower_bound, upper_bound):\n",
    "        self.model = model\n",
    "        self.weight_dim = weight_dim\n",
    "        self.x_training = x_training\n",
    "        self.y_training = y_training\n",
    "        self.lower = lower_bound\n",
    "        self.upper = upper_bound\n",
    "        self.weightNN = self.calculateWeightNN() # oblik koji je potreban za model NN\n",
    "        self.weightGA = self.NNtoGAshape() # 1 dimenzioni niz\n",
    "        self.fitness = self.calculateFitness()\n",
    "        \n",
    "    \n",
    "    def __gt__(self, other):\n",
    "        return self.fitness < other.fitness\n",
    "    \n",
    "    def calculateFitness(self):\n",
    "        self.model.set_weights(self.weightNN)\n",
    "        train_loss, train_accuracy = self.model.evaluate(self.x_training, self.y_training, verbose = 0)\n",
    "        \n",
    "        return train_accuracy\n",
    "\n",
    "    def calculateWeightNN(self):\n",
    "        weight = []\n",
    "        \n",
    "        for dim in self.weight_dim:\n",
    "            if(len(dim) == 1):\n",
    "                bias = np.random.uniform(low = self.lower, high = self.upper, size=(dim[0]))\n",
    "                weight.append(bias)\n",
    "            else:\n",
    "                matrix = np.random.uniform(low = self.lower, high = self.upper, size=(dim[0], dim[1]))\n",
    "                weight.append(matrix)\n",
    "        \n",
    "        return weight\n",
    "    \n",
    "    # weightNN -> weightGA\n",
    "    def NNtoGAshape(self):\n",
    "        weightGA = []\n",
    "        \n",
    "        for w in self.weightNN:\n",
    "            for arr in w:\n",
    "                if isinstance(arr, np.ndarray):\n",
    "                    row = np.ndarray.tolist(arr)\n",
    "                    for one in row:\n",
    "                        weightGA.append(one)\n",
    "                else:\n",
    "                    weightGA.append(arr)\n",
    "        return weightGA\n",
    "        \n",
    "    # weightGA -> weightGA\n",
    "    def GAtoNNshape(self):\n",
    "        weightNN = []\n",
    "        \n",
    "        i = 0\n",
    "        for dim in self.weight_dim:\n",
    "            array = []\n",
    "            if(len(dim) == 1):\n",
    "                n = dim[0]\n",
    "                array.append(self.weightGA[i:i+n])\n",
    "                i += n\n",
    "                weightNN.append(np.asarray(array[0]))\n",
    "            else:\n",
    "                for k in range(dim[0]):\n",
    "                    row = []\n",
    "                    for j in range(dim[1]):\n",
    "                        row.append(self.weightGA[i])\n",
    "                        i += 1\n",
    "                    array.append(row)\n",
    "                weightNN.append(np.asarray(array))\n",
    "        return weightNN"
   ]
  },
  {
   "cell_type": "code",
   "execution_count": 35,
   "id": "spatial-immigration",
   "metadata": {},
   "outputs": [],
   "source": [
    "def selection(population):\n",
    "    fitness_sum = sum(i.fitness for i in population)\n",
    "    value = random.uniform(0, fitness_sum)\n",
    "    current = 0\n",
    "    for i in range(0,len(population)):\n",
    "        current += population[i].fitness\n",
    "        if current > value:\n",
    "            return i\n",
    "    \n",
    "\n",
    "def crossover(parent1, parent2, child1, child2):\n",
    "    n = len(parent1.weightGA)\n",
    "    \n",
    "    breakpoint1 = random.randrange(0, int(n/2))\n",
    "    breakpoint2 = random.randrange(int(n/2)+1, n)\n",
    "    \n",
    "    child1.weightGA[:breakpoint1] = parent1.weightGA[:breakpoint1]\n",
    "    child2.weightGA[:breakpoint1] = parent2.weightGA[:breakpoint1]\n",
    "    \n",
    "    child1.weightGA[breakpoint1:breakpoint2] = parent2.weightGA[breakpoint1:breakpoint2]\n",
    "    child2.weightGA[breakpoint1:breakpoint2] = parent1.weightGA[breakpoint1:breakpoint2]\n",
    "    \n",
    "    child1.weightGA[breakpoint2:] = parent1.weightGA[breakpoint2:]\n",
    "    child2.weightGA[breakpoint2:] = parent2.weightGA[breakpoint2:]\n",
    "    \n",
    "    child1.weightNN = child1.GAtoNNshape()\n",
    "    child2.weightNN = child2.GAtoNNshape()\n",
    "\n",
    "def mutation(individual, prob):\n",
    "    for i in range(len(individual.weightGA)):\n",
    "        if random.random() < prob:\n",
    "            individual.weightGA[i] = random.uniform(individual.lower, individual.upper)\n",
    "    \n",
    "    individual.weightNN = individual.GAtoNNshape()"
   ]
  },
  {
   "cell_type": "code",
   "execution_count": 36,
   "id": "south-drink",
   "metadata": {},
   "outputs": [],
   "source": [
    "def NNwithGAoptimisation(population_size, max_iter, data):\n",
    "\n",
    "    x_train, x_test, y_train, y_test = train_test_split(data.data, data.target, test_size=0.33)\n",
    "    y_train = to_categorical(y_train)\n",
    "    y_test = to_categorical(y_test)\n",
    "\n",
    "    scaler = StandardScaler()\n",
    "    scaler.fit(x_train)\n",
    "    x_train = scaler.transform(x_train)\n",
    "    x_test = scaler.transform(x_test)\n",
    "    \n",
    "    \n",
    "    model = Sequential()\n",
    "    model.add(Dense(units=100, input_dim=x_train.shape[1], activation='relu'))\n",
    "    model.add(Dense(units=y_train.shape[1], activation='sigmoid'))\n",
    "    model.summary()\n",
    "    \n",
    "    model.compile(optimizer='adam', loss=losses.categorical_crossentropy, metrics=['accuracy'])\n",
    "    \n",
    "    weight_dim = [i.shape for i in model.get_weights()]\n",
    "    population = [Individual(weight_dim, model, x_train, y_train, -1, 1) for i in range(population_size)]\n",
    "    newPopulation = [Individual(weight_dim, model, x_train, y_train, -1, 1) for i in range(population_size)]\n",
    "\n",
    "    elitism = int(0.2 * population_size)\n",
    "    best_fitness = 0\n",
    "    best_weight = []\n",
    "    for i in range(max_iter):\n",
    "    \n",
    "        population.sort()\n",
    "        newPopulation[:elitism] = population[:elitism]\n",
    "    \n",
    "        for j in range(elitism, population_size-1, 2):\n",
    "        \n",
    "            parent1 = selection(population)\n",
    "            parent2 = selection(population)\n",
    "        \n",
    "            crossover(population[parent1], population[parent2], newPopulation[j], newPopulation[j+1])\n",
    "\n",
    "            if(j > population_size-10):\n",
    "                mutation(newPopulation[j], 0.1)\n",
    "                mutation(newPopulation[j+1], 0.1)\n",
    "            else:\n",
    "                mutation(newPopulation[j], 0.05)\n",
    "                mutation(newPopulation[j+1], 0.05)\n",
    "        \n",
    "            newPopulation[j].fitness = newPopulation[j].calculateFitness()\n",
    "            newPopulation[j+1].fitness = newPopulation[j+1].calculateFitness()\n",
    "        \n",
    "        population = newPopulation\n",
    "    \n",
    "        best_individual = max(population, key=lambda x: x.fitness)\n",
    "        if best_individual.fitness > best_fitness:\n",
    "            best_fitness = best_individual.fitness\n",
    "            best_weight = best_individual.weightNN\n",
    "        \n",
    "        \n",
    "    model.set_weights(best_weight)\n",
    "    test_loss, test_accuracy = model.evaluate(x_test, y_test, verbose = 0)\n",
    "    return best_fitness, test_accuracy"
   ]
  },
  {
   "cell_type": "code",
   "execution_count": 37,
   "id": "relative-employer",
   "metadata": {},
   "outputs": [],
   "source": [
    "def NNwithAdam(data):\n",
    "    \n",
    "    x_train, x_test, y_train, y_test = train_test_split(data.data, data.target, test_size=0.33)\n",
    "    y_train = to_categorical(y_train)\n",
    "    y_test = to_categorical(y_test)\n",
    "\n",
    "    scaler = StandardScaler()\n",
    "    scaler.fit(x_train)\n",
    "    x_train = scaler.transform(x_train)\n",
    "    x_test = scaler.transform(x_test)\n",
    "    \n",
    "    model = Sequential()\n",
    "    model.add(Dense(units=100, input_dim=x_train.shape[1], activation='relu'))\n",
    "    model.add(Dense(units=y_train.shape[1], activation='sigmoid'))\n",
    "    model.summary()\n",
    "\n",
    "    model.compile(optimizer='adam', loss=losses.categorical_crossentropy, metrics=['accuracy'])\n",
    "    model.fit(x_train, y_train, batch_size = 64, epochs = 150, verbose = 0, validation_split = 0.3)\n",
    "    \n",
    "    \n",
    "    train_loss, train_accuracy = model.evaluate(x_train, y_train)\n",
    "    test_loss, test_accuracy = model.evaluate(x_test, y_test)\n",
    "    \n",
    "    return train_accuracy, test_accuracy"
   ]
  },
  {
   "cell_type": "code",
   "execution_count": 44,
   "id": "specified-incidence",
   "metadata": {},
   "outputs": [
    {
     "name": "stdout",
     "output_type": "stream",
     "text": [
      "Model: \"sequential_28\"\n",
      "_________________________________________________________________\n",
      "Layer (type)                 Output Shape              Param #   \n",
      "=================================================================\n",
      "dense_55 (Dense)             (None, 100)               500       \n",
      "_________________________________________________________________\n",
      "dense_56 (Dense)             (None, 3)                 303       \n",
      "=================================================================\n",
      "Total params: 803\n",
      "Trainable params: 803\n",
      "Non-trainable params: 0\n",
      "_________________________________________________________________\n",
      "Iris data: Train accuracy = 0.9700000286102295, Test accuracy = 0.9599999785423279\n",
      "Model: \"sequential_29\"\n",
      "_________________________________________________________________\n",
      "Layer (type)                 Output Shape              Param #   \n",
      "=================================================================\n",
      "dense_57 (Dense)             (None, 100)               500       \n",
      "_________________________________________________________________\n",
      "dense_58 (Dense)             (None, 3)                 303       \n",
      "=================================================================\n",
      "Total params: 803\n",
      "Trainable params: 803\n",
      "Non-trainable params: 0\n",
      "_________________________________________________________________\n",
      "100/100 [==============================] - 0s 205us/step\n",
      "50/50 [==============================] - 0s 369us/step\n",
      "Iris data: Train accuracy = 0.9300000071525574, Test accuracy = 0.9200000166893005\n"
     ]
    }
   ],
   "source": [
    "iris = datasets.load_iris()\n",
    "\n",
    "train_iris, test_iris = NNwithGAoptimisation(30, 150, iris)\n",
    "print('Iris data: Train accuracy = ' + str(train_iris) + ', Test accuracy = ' + str(test_iris))\n",
    "\n",
    "train_iris_adam, test_iris_adam = NNwithAdam(iris)\n",
    "print('Iris data: Train accuracy = ' + str(train_iris_adam) + ', Test accuracy = ' + str(test_iris_adam))"
   ]
  },
  {
   "cell_type": "code",
   "execution_count": 39,
   "id": "competent-mainstream",
   "metadata": {},
   "outputs": [
    {
     "name": "stdout",
     "output_type": "stream",
     "text": [
      "Model: \"sequential_22\"\n",
      "_________________________________________________________________\n",
      "Layer (type)                 Output Shape              Param #   \n",
      "=================================================================\n",
      "dense_43 (Dense)             (None, 100)               3100      \n",
      "_________________________________________________________________\n",
      "dense_44 (Dense)             (None, 2)                 202       \n",
      "=================================================================\n",
      "Total params: 3,302\n",
      "Trainable params: 3,302\n",
      "Non-trainable params: 0\n",
      "_________________________________________________________________\n",
      "Cancer data: Train accuracy = 0.9816272854804993, Test accuracy = 0.9521276354789734\n",
      "Model: \"sequential_23\"\n",
      "_________________________________________________________________\n",
      "Layer (type)                 Output Shape              Param #   \n",
      "=================================================================\n",
      "dense_45 (Dense)             (None, 100)               3100      \n",
      "_________________________________________________________________\n",
      "dense_46 (Dense)             (None, 2)                 202       \n",
      "=================================================================\n",
      "Total params: 3,302\n",
      "Trainable params: 3,302\n",
      "Non-trainable params: 0\n",
      "_________________________________________________________________\n",
      "381/381 [==============================] - 0s 109us/step\n",
      "188/188 [==============================] - 0s 116us/step\n",
      "Cancer data: Train accuracy = 0.9868766665458679, Test accuracy = 0.9734042286872864\n"
     ]
    }
   ],
   "source": [
    "cancer = datasets.load_breast_cancer()\n",
    "\n",
    "train_cancer, test_cancer = NNwithGAoptimisation(30, 150, cancer)\n",
    "print('Cancer data: Train accuracy = ' + str(train_cancer) + ', Test accuracy = ' + str(test_cancer))\n",
    "\n",
    "train_cancer_adam, test_cancer_adam = NNwithAdam(cancer)\n",
    "print('Cancer data: Train accuracy = ' + str(train_cancer_adam) + ', Test accuracy = ' + str(test_cancer_adam))"
   ]
  },
  {
   "cell_type": "code",
   "execution_count": 40,
   "id": "imperial-niagara",
   "metadata": {},
   "outputs": [
    {
     "name": "stdout",
     "output_type": "stream",
     "text": [
      "Model: \"sequential_24\"\n",
      "_________________________________________________________________\n",
      "Layer (type)                 Output Shape              Param #   \n",
      "=================================================================\n",
      "dense_47 (Dense)             (None, 100)               1400      \n",
      "_________________________________________________________________\n",
      "dense_48 (Dense)             (None, 3)                 303       \n",
      "=================================================================\n",
      "Total params: 1,703\n",
      "Trainable params: 1,703\n",
      "Non-trainable params: 0\n",
      "_________________________________________________________________\n",
      "Wine data: Train accuracy = 0.9747899174690247, Test accuracy = 0.9152542352676392\n",
      "Model: \"sequential_25\"\n",
      "_________________________________________________________________\n",
      "Layer (type)                 Output Shape              Param #   \n",
      "=================================================================\n",
      "dense_49 (Dense)             (None, 100)               1400      \n",
      "_________________________________________________________________\n",
      "dense_50 (Dense)             (None, 3)                 303       \n",
      "=================================================================\n",
      "Total params: 1,703\n",
      "Trainable params: 1,703\n",
      "Non-trainable params: 0\n",
      "_________________________________________________________________\n",
      "119/119 [==============================] - 0s 235us/step\n",
      "59/59 [==============================] - 0s 378us/step\n",
      "Wine data: Train accuracy = 0.9915966391563416, Test accuracy = 0.9830508232116699\n"
     ]
    }
   ],
   "source": [
    "wine = datasets.load_wine()\n",
    "\n",
    "train_wine, test_wine = NNwithGAoptimisation(30, 150, wine)\n",
    "print('Wine data: Train accuracy = ' + str(train_wine) + ', Test accuracy = ' + str(test_wine))\n",
    "\n",
    "train_wine_adam, test_wine_adam = NNwithAdam(wine)\n",
    "print('Wine data: Train accuracy = ' + str(train_wine_adam) + ', Test accuracy = ' + str(test_wine_adam))"
   ]
  },
  {
   "cell_type": "code",
   "execution_count": 45,
   "id": "interested-airplane",
   "metadata": {},
   "outputs": [
    {
     "data": {
      "image/png": "[encoded data removed]",
      "text/plain": [
       "<Figure size 432x288 with 1 Axes>"
      ]
     },
     "metadata": {
      "needs_background": "light"
     },
     "output_type": "display_data"
    },
    {
     "data": {
      "image/png": "[encoded data removed]",
      "text/plain": [
       "<Figure size 432x288 with 1 Axes>"
      ]
     },
     "metadata": {
      "needs_background": "light"
     },
     "output_type": "display_data"
    },
    {
     "data": {
      "image/png": "[encoded data removed]",
      "text/plain": [
       "<Figure size 432x288 with 1 Axes>"
      ]
     },
     "metadata": {
      "needs_background": "light"
     },
     "output_type": "display_data"
    }
   ],
   "source": [
    "y_pos = np.arange(2)\n",
    "plt.bar(y_pos, [train_iris, test_iris], align='center', alpha=0.5, color = 'r')\n",
    "plt.xticks(y_pos, ('train', 'test'))\n",
    "plt.ylabel('acc')\n",
    "plt.title('Iris accurancy')\n",
    "\n",
    "plt.show()\n",
    "\n",
    "y_pos = np.arange(2)\n",
    "plt.bar(y_pos, [train_cancer, test_cancer], align='center', alpha=0.5, color = 'b')\n",
    "plt.xticks(y_pos, ('train', 'test'))\n",
    "plt.ylabel('acc')\n",
    "plt.title('Cancer accurancy')\n",
    "\n",
    "plt.show()\n",
    "\n",
    "y_pos = np.arange(2)\n",
    "plt.bar(y_pos, [train_wine, test_wine], align='center', alpha=0.5, color = 'y')\n",
    "plt.xticks(y_pos, ('train', 'test'))\n",
    "plt.ylabel('acc')\n",
    "plt.title('Wine accurancy')\n",
    "\n",
    "plt.show()"
   ]
  },
  {
   "cell_type": "code",
   "execution_count": 46,
   "id": "coral-coordination",
   "metadata": {},
   "outputs": [
    {
     "name": "stderr",
     "output_type": "stream",
     "text": [
      "No handles with labels found to put in legend.\n"
     ]
    },
    {
     "data": {
      "image/png": "[encoded data removed]",
      "text/plain": [
       "<Figure size 432x288 with 1 Axes>"
      ]
     },
     "metadata": {
      "needs_background": "light"
     },
     "output_type": "display_data"
    }
   ],
   "source": [
    "test_GA = [round(test_iris,2), round(test_cancer,2), round(test_wine,2)]\n",
    "test_adam = [round(test_iris_adam,2), round(test_cancer_adam,2), round(test_wine_adam,2)]\n",
    "\n",
    "labels = ['iris', 'cancer', 'wine']\n",
    "x = np.arange(len(labels))\n",
    "width = 0.35\n",
    "\n",
    "fig, ax = plt.subplots()\n",
    "rects1 = ax.bar(x - width/2, test_GA, width)\n",
    "rects2 = ax.bar(x + width/2, test_adam, width)\n",
    "\n",
    "ax.set_ylabel('Accuracy')\n",
    "ax.set_title('Accuracy on test sets')\n",
    "ax.set_xticks(x)\n",
    "ax.set_xticklabels(labels)\n",
    "ax.legend()\n",
    "\n",
    "def autolabel(rects):\n",
    "    for rect in rects:\n",
    "        height = rect.get_height()\n",
    "        ax.annotate('{}'.format(height),\n",
    "                    xy=(rect.get_x() + rect.get_width() / 2, height),\n",
    "                    xytext=(0, 3),  \n",
    "                    textcoords=\"offset points\",\n",
    "                    ha='center', va='bottom')\n",
    "\n",
    "\n",
    "autolabel(rects1)\n",
    "autolabel(rects2)\n",
    "\n",
    "fig.tight_layout()\n",
    "\n",
    "plt.show()\n"
   ]
  },
  {
   "cell_type": "code",
   "execution_count": null,
   "id": "psychological-sociology",
   "metadata": {},
   "outputs": [],
   "source": []
  }
 ],
 "metadata": {
  "kernelspec": {
   "display_name": "Python 3",
   "language": "python",
   "name": "python3"
  },
  "language_info": {
   "codemirror_mode": {
    "name": "ipython",
    "version": 3
   },
   "file_extension": ".py",
   "mimetype": "text/x-python",
   "name": "python",
   "nbconvert_exporter": "python",
   "pygments_lexer": "ipython3",
   "version": "3.6.5"
  }
 },
 "nbformat": 4,
 "nbformat_minor": 5
}
